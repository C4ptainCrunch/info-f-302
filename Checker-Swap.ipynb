{
 "cells": [
  {
   "cell_type": "code",
   "execution_count": 1,
   "metadata": {
    "collapsed": false
   },
   "outputs": [
    {
     "name": "stdout",
     "output_type": "stream",
     "text": [
      "Populating the interactive namespace from numpy and matplotlib\n"
     ]
    }
   ],
   "source": [
    "%pylab inline\n",
    "pylab.rcParams['figure.figsize'] = (10, 10)\n",
    "import requests\n",
    "import matplotlib.pyplot as plt\n",
    "import matplotlib.patches as patches\n",
    "from matplotlib.path import Path"
   ]
  },
  {
   "cell_type": "code",
   "execution_count": 2,
   "metadata": {
    "collapsed": true
   },
   "outputs": [],
   "source": [
    "def draw(base, size):\n",
    "    verts = [\n",
    "        (base[1], base[0]), # left, bottom\n",
    "        (base[1], base[0] + size[0]), # left, top\n",
    "        (base[1] + size[1], base[0] + size[0]), # right, top\n",
    "        (base[1] + size[1], base[0]), # right, bottom\n",
    "        (0., 0.), # ignored\n",
    "        ]\n",
    "\n",
    "    codes = [Path.MOVETO,\n",
    "             Path.LINETO,\n",
    "             Path.LINETO,\n",
    "             Path.LINETO,\n",
    "             Path.CLOSEPOLY,\n",
    "             ]\n",
    "    \n",
    "    path = Path(verts, codes)\n",
    "    \n",
    "    return path"
   ]
  },
  {
   "cell_type": "code",
   "execution_count": 12,
   "metadata": {
    "collapsed": false
   },
   "outputs": [],
   "source": [
    "def check(inp, out):    \n",
    "    k = int(inp[0].strip())\n",
    "    m = int(inp[1].strip())\n",
    "    n = int(inp[2].strip())\n",
    "    rect = [list(map(int, l.strip().split(\" \"))) for l in inp[3:]]\n",
    "    rect = {x[0]:x[1:] for x in rect}\n",
    "    \n",
    "    places = [list(map(int, l.strip().split(\" \"))) for l in out]\n",
    "    \n",
    "    aire = 0\n",
    "    for r in rect.values():\n",
    "        aire += r[0] * r[1]\n",
    "    \n",
    "    fig = plt.figure()\n",
    "    ax = fig.add_subplot(111)\n",
    "    \n",
    "    major_ticks = list(range(0, max(m,n), 5))\n",
    "    minor_ticks = list(range(0, max(m,n), 1))\n",
    "    \n",
    "    ax.set_xticks(major_ticks)                                                       \n",
    "    ax.set_xticks(minor_ticks, minor=True)                                           \n",
    "    ax.set_yticks(major_ticks)                                                       \n",
    "    ax.set_yticks(minor_ticks, minor=True)    \n",
    "    \n",
    "    ax.grid(which='minor', alpha=0.7)                                                \n",
    "    ax.grid(which='major', alpha=1)    \n",
    "    \n",
    "    if aire < m*n:\n",
    "        ax.add_patch(patches.PathPatch(draw([0,0],[n,m]), facecolor='lightgrey', lw=2))\n",
    "    else:\n",
    "        ax.add_patch(patches.PathPatch(draw([0,0],[n,m]), facecolor='blue', lw=2))\n",
    "    \n",
    "    for (id, h, w, swap) in places:\n",
    "        if int(swap):\n",
    "            base_w, base_h = rect[id]\n",
    "        else:\n",
    "            base_h, base_w = rect[id]\n",
    "        ax.add_patch(patches.PathPatch(draw([h, w],[base_h, base_w]), facecolor='red', lw=2, alpha=0.4))\n",
    "        ax.text(w + 0.2, h + 0.2, str(id), fontsize=10)\n",
    "    \n",
    "    ax.set_xlim(-1,m + 1)\n",
    "    ax.set_ylim(-1,n + 1)\n",
    "    plt.gca().set_aspect('equal', adjustable='box')\n",
    "    plt.show()\n",
    "    \n",
    "    return \"Surface des pièces : %i, surface du rectange: %i. Surface possible: %s\" % (aire, m*n, \"oui\" if aire < m*n else \"non\")"
   ]
  },
  {
   "cell_type": "code",
   "execution_count": 14,
   "metadata": {
    "collapsed": false
   },
   "outputs": [
    {
     "data": {
      "image/png": "[encoded data removed]",
      "text/plain": [
       "<matplotlib.figure.Figure at 0x7f54aa5994a8>"
      ]
     },
     "metadata": {},
     "output_type": "display_data"
    },
    {
     "data": {
      "text/plain": [
       "'Surface des pièces : 14, surface du rectange: 16. Surface possible: oui'"
      ]
     },
     "execution_count": 14,
     "metadata": {},
     "output_type": "execute_result"
    }
   ],
   "source": [
    "inp = \"\"\"3\n",
    "4\n",
    "4       \n",
    "1 4 1\n",
    "2 2 2\n",
    "3 2 3\"\"\".split(\"\\n\")\n",
    "\n",
    "out = \"\"\"1 0 3 0\n",
    "2 2 0 0\n",
    "3 0 0 0\"\"\".split(\"\\n\")\n",
    "\n",
    "check(inp, out)"
   ]
  },
  {
   "cell_type": "code",
   "execution_count": null,
   "metadata": {
    "collapsed": true
   },
   "outputs": [],
   "source": [
    "def internet(i,o):\n",
    "    data = requests.get(\"http://paste.awesom.eu/raw/\" + i).text.strip().replace(\"\\r\", \"\").replace(\"  \", \" \").replace(\"  \", \" \").replace(\"  \", \" \").replace(\"  \", \" \").replace(\"  \", \" \").replace(\"  \", \" \").replace(\"  \", \" \").split(\"\\n\")\n",
    "    out = requests.get(\"http://paste.awesom.eu/raw/\" + o).text.strip().replace(\"\\r\", \"\").replace(\"  \", \" \").replace(\"  \", \" \").replace(\"  \", \" \").replace(\"  \", \" \").replace(\"  \", \" \").replace(\"  \", \" \").replace(\"  \", \" \").split(\"\\n\")\n",
    "\n",
    "    return check(data, out)"
   ]
  },
  {
   "cell_type": "code",
   "execution_count": null,
   "metadata": {
    "collapsed": false
   },
   "outputs": [],
   "source": [
    "internet(\"X9bM\", \"ej3P\")"
   ]
  }
 ],
 "metadata": {
  "kernelspec": {
   "display_name": "Python 3",
   "language": "python",
   "name": "python3"
  },
  "language_info": {
   "codemirror_mode": {
    "name": "ipython",
    "version": 3
   },
   "file_extension": ".py",
   "mimetype": "text/x-python",
   "name": "python",
   "nbconvert_exporter": "python",
   "pygments_lexer": "ipython3",
   "version": "3.4.3"
  }
 },
 "nbformat": 4,
 "nbformat_minor": 0
}
